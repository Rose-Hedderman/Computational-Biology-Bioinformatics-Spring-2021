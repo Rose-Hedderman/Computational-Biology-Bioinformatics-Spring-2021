{
 "cells": [
  {
   "cell_type": "markdown",
   "metadata": {},
   "source": [
    "# HW 9\n",
    "\n",
    "## SDS348 Spring 2021"
   ]
  },
  {
   "cell_type": "markdown",
   "metadata": {},
   "source": [
    "### Rose Hedderman EID: rrh2298"
   ]
  },
  {
   "cell_type": "markdown",
   "metadata": {},
   "source": [
    "**This homework is due on April 26, 2021 at 8am. Submit a pdf file on Gradescope.**\n",
    "\n",
    "*For all questions, include the Python commands/functions that you used to find your answer. Answers without supporting code will not receive credit. Write full sentences to describe your findings.*"
   ]
  },
  {
   "cell_type": "markdown",
   "metadata": {},
   "source": [
    "### Question 1: (14 pts)"
   ]
  },
  {
   "cell_type": "markdown",
   "metadata": {},
   "source": [
    "#### 1.1 (2 pts) The dataset `faithful` contains information about eruptions of the Old Faithful geyser in Yellowstone National Park. Run the code below to download the dataset from GitHub. What type of object is it? Take a peek at the first few rows using `.head()`, looks familiar? "
   ]
  },
  {
   "cell_type": "code",
   "execution_count": 1,
   "metadata": {},
   "outputs": [],
   "source": [
    "# Import package pandas\n",
    "import pandas as pd"
   ]
  },
  {
   "cell_type": "code",
   "execution_count": 2,
   "metadata": {},
   "outputs": [],
   "source": [
    "# Import dataset\n",
    "faithful = pd.read_csv(\"https://raw.githubusercontent.com/laylaguyot/datasets/main//faithful.csv\")"
   ]
  },
  {
   "cell_type": "code",
   "execution_count": 3,
   "metadata": {
    "scrolled": true
   },
   "outputs": [
    {
     "name": "stdout",
     "output_type": "stream",
     "text": [
      "<class 'pandas.core.frame.DataFrame'>\n"
     ]
    },
    {
     "data": {
      "text/html": [
       "<div>\n",
       "<style scoped>\n",
       "    .dataframe tbody tr th:only-of-type {\n",
       "        vertical-align: middle;\n",
       "    }\n",
       "\n",
       "    .dataframe tbody tr th {\n",
       "        vertical-align: top;\n",
       "    }\n",
       "\n",
       "    .dataframe thead th {\n",
       "        text-align: right;\n",
       "    }\n",
       "</style>\n",
       "<table border=\"1\" class=\"dataframe\">\n",
       "  <thead>\n",
       "    <tr style=\"text-align: right;\">\n",
       "      <th></th>\n",
       "      <th>Unnamed: 0</th>\n",
       "      <th>eruptions</th>\n",
       "      <th>waiting</th>\n",
       "    </tr>\n",
       "  </thead>\n",
       "  <tbody>\n",
       "    <tr>\n",
       "      <td>0</td>\n",
       "      <td>1</td>\n",
       "      <td>3.600</td>\n",
       "      <td>79</td>\n",
       "    </tr>\n",
       "    <tr>\n",
       "      <td>1</td>\n",
       "      <td>2</td>\n",
       "      <td>1.800</td>\n",
       "      <td>54</td>\n",
       "    </tr>\n",
       "    <tr>\n",
       "      <td>2</td>\n",
       "      <td>3</td>\n",
       "      <td>3.333</td>\n",
       "      <td>74</td>\n",
       "    </tr>\n",
       "    <tr>\n",
       "      <td>3</td>\n",
       "      <td>4</td>\n",
       "      <td>2.283</td>\n",
       "      <td>62</td>\n",
       "    </tr>\n",
       "    <tr>\n",
       "      <td>4</td>\n",
       "      <td>5</td>\n",
       "      <td>4.533</td>\n",
       "      <td>85</td>\n",
       "    </tr>\n",
       "  </tbody>\n",
       "</table>\n",
       "</div>"
      ],
      "text/plain": [
       "   Unnamed: 0  eruptions  waiting\n",
       "0           1      3.600       79\n",
       "1           2      1.800       54\n",
       "2           3      3.333       74\n",
       "3           4      2.283       62\n",
       "4           5      4.533       85"
      ]
     },
     "execution_count": 3,
     "metadata": {},
     "output_type": "execute_result"
    }
   ],
   "source": [
    "# peek at the first few rows of faithful\n",
    "print(type(faithful))\n",
    "faithful.head()"
   ]
  },
  {
   "cell_type": "markdown",
   "metadata": {},
   "source": [
    "*The faithful dataset is a dataframe, same as the ones we worked with in R.*"
   ]
  },
  {
   "cell_type": "markdown",
   "metadata": {},
   "source": [
    "#### 1.2 (2 pts) What are the minimum and maximum values of the variables `eruptions` and `waiting` (both measured in minutes)? You can access individual variables in a dataframe using the `.` operator (e.g., `faithful.eruptions`)."
   ]
  },
  {
   "cell_type": "code",
   "execution_count": 4,
   "metadata": {},
   "outputs": [
    {
     "name": "stdout",
     "output_type": "stream",
     "text": [
      "The minimum eruptions were 1.6 . The maximum eruptions were 5.1 . The minimum waiting was 43 . The maximum waiting was 96 .\n"
     ]
    }
   ],
   "source": [
    "# minimum eruptions\n",
    "min_e = min(faithful.eruptions)\n",
    "# maximum eruptions\n",
    "max_e = max(faithful.eruptions)\n",
    "# minimum waiting\n",
    "min_w = min(faithful.waiting)\n",
    "# maximum waiting\n",
    "max_w = max(faithful.waiting)\n",
    "print(\"The minimum eruptions were\",min_e,\". The maximum eruptions were\",max_e,\". The minimum waiting was\",min_w,\". The maximum waiting was\",max_w,\".\")"
   ]
  },
  {
   "cell_type": "markdown",
   "metadata": {},
   "source": [
    "The minimum eruptions were 1.6 while the maximum eruptions were 5.1. The minimum waiting was 43 while the maximum waiting was 96."
   ]
  },
  {
   "cell_type": "markdown",
   "metadata": {},
   "source": [
    "#### 1.3 (2 pts) Using the package `numpy`, what is the standard deviation of the variable `eruptions`?"
   ]
  },
  {
   "cell_type": "code",
   "execution_count": 5,
   "metadata": {},
   "outputs": [],
   "source": [
    "# Import package numpy\n",
    "import numpy as np"
   ]
  },
  {
   "cell_type": "code",
   "execution_count": 6,
   "metadata": {},
   "outputs": [
    {
     "data": {
      "text/plain": [
       "1.1392712102257678"
      ]
     },
     "execution_count": 6,
     "metadata": {},
     "output_type": "execute_result"
    }
   ],
   "source": [
    "# stdev of eruptions\n",
    "np.std(faithful.eruptions)"
   ]
  },
  {
   "cell_type": "markdown",
   "metadata": {},
   "source": [
    "*The standard deviation of the variable eruptions is 1.139 eruptions.* "
   ]
  },
  {
   "cell_type": "markdown",
   "metadata": {},
   "source": [
    "#### 1.4 (2 pts) Recall how logical indexing of a dataframe works in Python. In the example code below, I ask Python for the number of rows and columns in the dataset where the variable `waiting` takes on values greater than 60. Then I ask for the average of the variable `eruptions` when the variable `waiting` is above 60. What is the mean of the variable `eruptions` when waiting is *less than* 1 hour?"
   ]
  },
  {
   "cell_type": "code",
   "execution_count": 7,
   "metadata": {},
   "outputs": [
    {
     "data": {
      "text/plain": [
       "(189, 3)"
      ]
     },
     "execution_count": 7,
     "metadata": {},
     "output_type": "execute_result"
    }
   ],
   "source": [
    "# rows and columns\n",
    "faithful[faithful.waiting>60].shape"
   ]
  },
  {
   "cell_type": "code",
   "execution_count": 8,
   "metadata": {},
   "outputs": [
    {
     "data": {
      "text/plain": [
       "4.138587301587303"
      ]
     },
     "execution_count": 8,
     "metadata": {},
     "output_type": "execute_result"
    }
   ],
   "source": [
    "# mean of eruptions for waiting values greater than 60\n",
    "np.mean(faithful[faithful.waiting > 60].eruptions)"
   ]
  },
  {
   "cell_type": "code",
   "execution_count": 9,
   "metadata": {},
   "outputs": [
    {
     "data": {
      "text/plain": [
       "1.9982727272727274"
      ]
     },
     "execution_count": 9,
     "metadata": {},
     "output_type": "execute_result"
    }
   ],
   "source": [
    "# mean of eruptions when waiting is less than an hour\n",
    "np.mean(faithful[faithful.waiting < 60].eruptions)"
   ]
  },
  {
   "cell_type": "markdown",
   "metadata": {},
   "source": [
    "*The mean of eruptions when waiting is less than an hour is 1.998.*"
   ]
  },
  {
   "cell_type": "markdown",
   "metadata": {},
   "source": [
    "#### 1.5 (2 pts) What is the standard deviation of the variable `eruptions` when `waiting` is *greater than* the median?"
   ]
  },
  {
   "cell_type": "code",
   "execution_count": 10,
   "metadata": {},
   "outputs": [
    {
     "data": {
      "text/plain": [
       "0.37160308361435546"
      ]
     },
     "execution_count": 10,
     "metadata": {},
     "output_type": "execute_result"
    }
   ],
   "source": [
    "#  standard deviation of the variable eruptions when waiting is greater than the median\n",
    "np.std(faithful[faithful.waiting > np.median(faithful.waiting)].eruptions)"
   ]
  },
  {
   "cell_type": "markdown",
   "metadata": {},
   "source": [
    "*The standard deviation of the variable eruptions when waiting is greater than the median is 0.3716.* "
   ]
  },
  {
   "cell_type": "markdown",
   "metadata": {},
   "source": [
    "#### 1.6 (4 pts) Both variables are measured in minutes. Create two new variables named `eruptions_h` and `waiting_h` that give each variable in hours rather than minutes and add them to the dataset `faithful`. To help get you started, I have given you code that creates a new variable called `eruptions_minus_one`. Instead, computes the requested transformation. Take a peek at the first few rows using `.head()`. What is the mean `waiting` time in minutes? in hours?"
   ]
  },
  {
   "cell_type": "code",
   "execution_count": 11,
   "metadata": {},
   "outputs": [],
   "source": [
    "# Create a variable eruptions_minus_one\n",
    "faithful['eruptions_minus_one'] = (faithful['eruptions'] - 1)\n",
    "\n",
    "# Delete that variable from the dataset\n",
    "del faithful['eruptions_minus_one']"
   ]
  },
  {
   "cell_type": "code",
   "execution_count": 12,
   "metadata": {},
   "outputs": [
    {
     "name": "stdout",
     "output_type": "stream",
     "text": [
      "The mean waiting time in hours is 1.1816176470588227 while the mean waiting time in minutes is 70.8970588235294\n"
     ]
    }
   ],
   "source": [
    "# create eruptions_h\n",
    "faithful['eruptions_h'] = (faithful['eruptions']/60)\n",
    "\n",
    "# create waiting_h\n",
    "faithful['waiting_h'] = (faithful['waiting']/60)\n",
    "\n",
    "# preview the dataset\n",
    "faithful.head()\n",
    "\n",
    "# mean of waiting time in hours\n",
    "mean_w_h = np.mean(faithful.waiting_h)\n",
    "\n",
    "# mean of waiting time in minutes\n",
    "mean_w_m = np.mean(faithful.waiting)\n",
    "\n",
    "print(\"The mean waiting time in hours is\", mean_w_h,\"while the mean waiting time in minutes is\", mean_w_m)"
   ]
  },
  {
   "cell_type": "markdown",
   "metadata": {},
   "source": [
    "*The mean waiting time in hours is 1.182 while the mean waiting time in minutes is 70.897.* "
   ]
  },
  {
   "cell_type": "markdown",
   "metadata": {},
   "source": [
    "### Question 2: (11 pts)"
   ]
  },
  {
   "cell_type": "markdown",
   "metadata": {},
   "source": [
    "#### 2.1 (3 pts) Create a list `food` containing the names of your favorite foods. Your list should contain at least 5 different kinds of food. Sort the list so that the names appear in alphabetical order. How many items are in the list?"
   ]
  },
  {
   "cell_type": "code",
   "execution_count": 13,
   "metadata": {},
   "outputs": [
    {
     "name": "stdout",
     "output_type": "stream",
     "text": [
      "['chocolate' 'ice cream' 'mozzerella sticks' 'pasta' 'quinoa' 'steak']\n",
      "There are 6 items in the list\n"
     ]
    }
   ],
   "source": [
    "# create a list of foods\n",
    "rose_food = [\"chocolate\", \"ice cream\", \"steak\", \"pasta\", \"quinoa\", \"mozzerella sticks\"]\n",
    "\n",
    "# sort the list of foods\n",
    "rose_food = np.sort(rose_food)\n",
    "\n",
    "# print sorted list\n",
    "print(rose_food)\n",
    "\n",
    "# find how many items are in the list\n",
    "print(\"There are\", len(rose_food),\"items in the list\")"
   ]
  },
  {
   "cell_type": "markdown",
   "metadata": {},
   "source": [
    "*There are six items in the list.* "
   ]
  },
  {
   "cell_type": "markdown",
   "metadata": {},
   "source": [
    "#### 2.2 (2 pts) Using the function `.sort()`, sort the list in alphabetical order. What is your first favorite food in alphabetical order?"
   ]
  },
  {
   "cell_type": "code",
   "execution_count": 14,
   "metadata": {},
   "outputs": [
    {
     "name": "stdout",
     "output_type": "stream",
     "text": [
      "['chocolate' 'ice cream' 'mozzerella sticks' 'pasta' 'quinoa' 'steak']\n"
     ]
    }
   ],
   "source": [
    "# sort the list in alphabetical order\n",
    "rose_food_sorted = np.sort(rose_food)\n",
    "print(rose_food_sorted)"
   ]
  },
  {
   "cell_type": "markdown",
   "metadata": {},
   "source": [
    "*My favorite food in alphabetical order is chocolate.* "
   ]
  },
  {
   "cell_type": "markdown",
   "metadata": {},
   "source": [
    "#### 2.3 (3 pts) Imagine that you have spent a week eating only your favorite foods. Create a dictionary `food_dict` that contains the names of your favorite foods as `keys` & counts for each time you ate that food as `values`. How many times did you eat that week?"
   ]
  },
  {
   "cell_type": "code",
   "execution_count": 15,
   "metadata": {},
   "outputs": [
    {
     "data": {
      "text/plain": [
       "34"
      ]
     },
     "execution_count": 15,
     "metadata": {},
     "output_type": "execute_result"
    }
   ],
   "source": [
    "# create a dictionary of favorite foods and number of times eaten\n",
    "rose_food_dict = {'chocolate': 20, 'ice cream': 2, 'mozzerlla sticks': 1, 'pasta': 3, 'quinoa': 7, 'steak': 1}\n",
    "# sum up values to determine how many times I ate that week\n",
    "sum(rose_food_dict.values())"
   ]
  },
  {
   "cell_type": "markdown",
   "metadata": {},
   "source": [
    "*I ate 34 times that week.*"
   ]
  },
  {
   "cell_type": "markdown",
   "metadata": {},
   "source": [
    "#### 2.4 (1 pt) Which of your favorite food did you eat the most often?"
   ]
  },
  {
   "cell_type": "code",
   "execution_count": 16,
   "metadata": {},
   "outputs": [
    {
     "data": {
      "text/plain": [
       "'chocolate'"
      ]
     },
     "execution_count": 16,
     "metadata": {},
     "output_type": "execute_result"
    }
   ],
   "source": [
    "# favorite favorite food\n",
    "sorted_fave = {}\n",
    "sorted_fave_key = sorted(rose_food_dict, key= rose_food_dict.get)\n",
    "\n",
    "for u in sorted_fave_key:\n",
    "    sorted_fave[u] = rose_food_dict[u]\n",
    "    \n",
    "keys = list(sorted_fave.keys())\n",
    "keys[-1]"
   ]
  },
  {
   "cell_type": "markdown",
   "metadata": {},
   "source": [
    "*I ate chocolate the most often.* "
   ]
  },
  {
   "cell_type": "markdown",
   "metadata": {},
   "source": [
    "#### 2.5 (2 pts) Using a `for` loop, multiply the values in your dictionary by 4 so that you can estimate how many times you would eat your favorite food per month. Has this ever happened in real life?!"
   ]
  },
  {
   "cell_type": "code",
   "execution_count": 17,
   "metadata": {},
   "outputs": [
    {
     "name": "stdout",
     "output_type": "stream",
     "text": [
      "{'chocolate': 80, 'ice cream': 8, 'mozzerlla sticks': 4, 'pasta': 12, 'quinoa': 28, 'steak': 4}\n"
     ]
    }
   ],
   "source": [
    "# use a for loop to estimate how many times I would eat my favorite food in real life\n",
    "month = rose_food_dict\n",
    "for key in rose_food_dict:\n",
    "    month[key] *= 4\n",
    "print(month)\n",
    "    # value + value*i\n",
    "# can't we mulitply the values in dictionary by four once and get those numbers\n",
    "# what is accomplished by implementing a for loop\n",
    "# am i understanding the questio correctly?"
   ]
  },
  {
   "cell_type": "markdown",
   "metadata": {},
   "source": [
    "*This has never happened in real life. I have never only eaten my favorite foods for a straight month.*"
   ]
  }
 ],
 "metadata": {
  "kernelspec": {
   "display_name": "Python 3",
   "language": "python",
   "name": "python3"
  },
  "language_info": {
   "codemirror_mode": {
    "name": "ipython",
    "version": 3
   },
   "file_extension": ".py",
   "mimetype": "text/x-python",
   "name": "python",
   "nbconvert_exporter": "python",
   "pygments_lexer": "ipython3",
   "version": "3.7.4"
  }
 },
 "nbformat": 4,
 "nbformat_minor": 4
}
